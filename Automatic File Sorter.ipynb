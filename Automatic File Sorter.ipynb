{
 "cells": [
  {
   "cell_type": "markdown",
   "id": "ca99633f-d418-4eb6-be1d-d2ab25d647b1",
   "metadata": {},
   "source": [
    "# Automatic File Sorter"
   ]
  },
  {
   "cell_type": "markdown",
   "id": "bdd1d67f-bfcb-4706-9cf0-530056a0103c",
   "metadata": {},
   "source": [
    "## Importing necessary libraries"
   ]
  },
  {
   "cell_type": "code",
   "execution_count": 85,
   "id": "707ef809-79bd-4ae1-b2bd-ccbb2fba4132",
   "metadata": {},
   "outputs": [],
   "source": [
    "import os\n",
    "import shutil"
   ]
  },
  {
   "cell_type": "markdown",
   "id": "a6297dfa-56c6-44de-bae8-025e7d523d73",
   "metadata": {},
   "source": [
    "## Creating landing folders for our sorted files"
   ]
  },
  {
   "cell_type": "code",
   "execution_count": 145,
   "id": "1c58fd33-4279-4d19-bf87-33914708f6f0",
   "metadata": {},
   "outputs": [],
   "source": [
    "path = r'C:\\Users\\user\\Downloads\\\\'\n",
    "folder_names = ['Image Files', 'Document files', 'Programs Files', 'Zip files', 'Video Files', 'Audio Files']\n",
    "\n",
    "for x in folder_names:\n",
    "    if not os.path.exists(path + x):\n",
    "        os.makedirs((path + x))"
   ]
  },
  {
   "cell_type": "markdown",
   "id": "08857a15-199e-4cb1-afc9-d1a11277966c",
   "metadata": {},
   "source": [
    "## Sorting our files to their designated folders"
   ]
  },
  {
   "cell_type": "code",
   "execution_count": 137,
   "id": "edac19c8-9646-436b-8cf0-5a655eec0b72",
   "metadata": {},
   "outputs": [],
   "source": [
    "file_name = os.listdir(path)\n",
    "for i in file_name:\n",
    "    if i.endswith(\".png\") or i.endswith(\".jpg\") and not os.path.exists(path + 'Image Files\\\\' +i):\n",
    "        shutil.move(path + i, path + 'Image Files\\\\' +i)\n",
    "    elif i.endswith(\".docx\") or i.endswith(\".pdf\") or i.endswith(\".xlsx\") and not os.path.exists(path + 'Image Files\\\\' +i):\n",
    "        shutil.move(path + i, path + 'Document Files\\\\' +i)\n",
    "    elif i.endswith(\".exe\") and not os.path.exists(path + 'Image Files\\\\' +i):\n",
    "        shutil.move(path + i, path + 'Programs Files\\\\' +i)\n",
    "    elif i.endswith(\".rar\") or i.endswith(\".zip\") and not os.path.exists(path + 'Image Files\\\\' +i):\n",
    "        shutil.move(path + i, path + 'Zip Files\\\\' +i)\n",
    "    elif i.endswith(\".mp4\") or i.endswith(\".mkv\") and not os.path.exists(path + 'Image Files\\\\' +i):\n",
    "        shutil.move(path + i, path + 'Video Files\\\\' +i)\n",
    "    elif i.endswith(\".mp3\") and not os.path.exists(path + 'Image Files\\\\' +i):\n",
    "        shutil.move(path + i, path + 'Audio Files\\\\' +i)"
   ]
  },
  {
   "cell_type": "code",
   "execution_count": 160,
   "id": "1851efc0-b60f-4e71-959f-cd7078e2e810",
   "metadata": {},
   "outputs": [
    {
     "name": "stdout",
     "output_type": "stream",
     "text": [
      "Image Files:  ['(M)TalentPop-CoWorkingSpace.png', '(M)TalentPop-WaitingRoom.png', '43985487_348780105928854_1466011684558797291_n.jpg', 'blitz 1.png', 'desktop.ini']\n",
      "Document files:  ['1303-000000265511.pdf', 'Assessment - Engagement Marketing Analyst - Wayne Ching.docx', 'Assessment - Position - First Name Last Name.docx', 'CHING GERARDO.xlsx', 'Ching_Wayne_DISC_and_Motivators.pdf', 'DE_VERA_CL_RESUME.pdf', 'Infor_Interview_Questions.pdf', 'MVARF - GI Claims - Fillable (with answers).pdf', 'Shopify Test.docx', '~$ARENA-TEAMS.docx', '~$YNE CHING__MAR29_LWOP.docx']\n",
      "Programs Files:  ['Crypto_VX7_Software_V1.0_20030200.exe', 'karafunplayer_2.6.2.0.exe', 'Outplayed - Installer.exe', 'TreeSizeFreeSetup.exe']\n",
      "Zip files:  ['distress-grain-grunge-texture.zip', 'EMP DLL.rar', 'instagram-itsmeyourboiwayne-2024-04-06-paoGvaDB.zip', 'instagram-itsmeyourboiwayne-2024-05-10-V3OT0eMi.zip', 'ProcessExplorer.zip', 'someappleclothing-logo-zip-file.zip']\n",
      "Video Files:  ['2024-04-27 13-29-23.mkv', '4549682-hd_1920_1080_30fps.mp4', '7947406-hd_1920_1080_30fps.mp4', '9709837-uhd_3840_2160_25fps.mp4']\n",
      "Audio Files:  ['eslabón armado - jugaste y sufrí (slowed  reverb).mp3', 'Man screaming  (Original meme).mp3']\n"
     ]
    }
   ],
   "source": [
    "for x in folder_names:\n",
    "    print(f\"{x}: \" , os.listdir(path + x))"
   ]
  },
  {
   "cell_type": "code",
   "execution_count": null,
   "id": "5cc0bd22-723b-4ab5-9a26-2eca2a6bfd53",
   "metadata": {},
   "outputs": [],
   "source": []
  }
 ],
 "metadata": {
  "kernelspec": {
   "display_name": "Python 3 (ipykernel)",
   "language": "python",
   "name": "python3"
  },
  "language_info": {
   "codemirror_mode": {
    "name": "ipython",
    "version": 3
   },
   "file_extension": ".py",
   "mimetype": "text/x-python",
   "name": "python",
   "nbconvert_exporter": "python",
   "pygments_lexer": "ipython3",
   "version": "3.12.4"
  }
 },
 "nbformat": 4,
 "nbformat_minor": 5
}
