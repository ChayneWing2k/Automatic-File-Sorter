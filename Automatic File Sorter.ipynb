{
 "cells": [
  {
   "cell_type": "markdown",
   "id": "ca99633f-d418-4eb6-be1d-d2ab25d647b1",
   "metadata": {},
   "source": [
    "# Automatic File Sorter"
   ]
  },
  {
   "cell_type": "markdown",
   "id": "bdd1d67f-bfcb-4706-9cf0-530056a0103c",
   "metadata": {},
   "source": [
    "## Importing necessary libraries"
   ]
  },
  {
   "cell_type": "code",
   "execution_count": 245,
   "id": "707ef809-79bd-4ae1-b2bd-ccbb2fba4132",
   "metadata": {},
   "outputs": [],
   "source": [
    "import os\n",
    "import shutil"
   ]
  },
  {
   "cell_type": "markdown",
   "id": "b385c0d9-b229-4c0d-aa08-21d4fcf6b178",
   "metadata": {},
   "source": [
    "## Let's check all the files in our general folder"
   ]
  },
  {
   "cell_type": "code",
   "execution_count": 247,
   "id": "0981a129-eef5-420a-b6a9-85dd6a236029",
   "metadata": {},
   "outputs": [
    {
     "data": {
      "text/plain": [
       "['(M)TalentPop-CoWorkingSpace.png',\n",
       " '(M)TalentPop-WaitingRoom.png',\n",
       " 'Automatic File Sorter.ipynb',\n",
       " 'distress-grain-grunge-texture.zip',\n",
       " 'EMP DLL.rar',\n",
       " 'vid 1.mp4',\n",
       " 'vid 2.mp4']"
      ]
     },
     "execution_count": 247,
     "metadata": {},
     "output_type": "execute_result"
    }
   ],
   "source": [
    "path = r'C:\\Users\\user\\Documents\\Finance Python\\Automatic File Sorter\\\\'\n",
    "folder_names = ['Image Files','Video Files', 'Zip files']\n",
    "\n",
    "os.listdir(path)"
   ]
  },
  {
   "cell_type": "markdown",
   "id": "a6297dfa-56c6-44de-bae8-025e7d523d73",
   "metadata": {},
   "source": [
    "## Creating landing folders for our files"
   ]
  },
  {
   "cell_type": "code",
   "execution_count": 249,
   "id": "1c58fd33-4279-4d19-bf87-33914708f6f0",
   "metadata": {},
   "outputs": [
    {
     "name": "stdout",
     "output_type": "stream",
     "text": [
      "Image Files\n",
      "Video Files\n",
      "Zip files\n"
     ]
    }
   ],
   "source": [
    "for x in folder_names:\n",
    "    if not os.path.exists(path + x):\n",
    "        os.makedirs((path + x))\n",
    "    print(x)"
   ]
  },
  {
   "cell_type": "markdown",
   "id": "08857a15-199e-4cb1-afc9-d1a11277966c",
   "metadata": {},
   "source": [
    "## Sorting our files to their designated folders"
   ]
  },
  {
   "cell_type": "code",
   "execution_count": 251,
   "id": "edac19c8-9646-436b-8cf0-5a655eec0b72",
   "metadata": {},
   "outputs": [],
   "source": [
    "file_name = os.listdir(path)\n",
    "for i in file_name:\n",
    "    if i.endswith(\".png\") or i.endswith(\".jpg\") and not os.path.exists(path + 'Image Files\\\\' +i):\n",
    "        shutil.move(path + i, path + 'Image Files\\\\' +i)\n",
    "    elif i.endswith(\".mp4\") and not os.path.exists(path + 'Video Files\\\\' +i):\n",
    "        shutil.move(path + i, path + 'Video Files\\\\' +i)\n",
    "    elif i.endswith(\".rar\") or i.endswith(\".zip\") and not os.path.exists(path + 'Zip Files\\\\' +i):\n",
    "        shutil.move(path + i, path + 'Zip Files\\\\' +i)"
   ]
  },
  {
   "cell_type": "markdown",
   "id": "b62b1611-309e-40c2-bb7c-fe208adb7796",
   "metadata": {},
   "source": [
    "## Let's check if it works"
   ]
  },
  {
   "cell_type": "code",
   "execution_count": 253,
   "id": "1851efc0-b60f-4e71-959f-cd7078e2e810",
   "metadata": {},
   "outputs": [
    {
     "name": "stdout",
     "output_type": "stream",
     "text": [
      "Image Files:  ['(M)TalentPop-CoWorkingSpace.png', '(M)TalentPop-WaitingRoom.png']\n",
      "Video Files:  ['vid 1.mp4', 'vid 2.mp4']\n",
      "Zip files:  ['distress-grain-grunge-texture.zip', 'EMP DLL.rar']\n"
     ]
    }
   ],
   "source": [
    "for z in folder_names:\n",
    "    print(f\"{z}: \" , os.listdir(path + z))"
   ]
  },
  {
   "cell_type": "markdown",
   "id": "a03282de-f6df-4f12-8773-d40d7e6b980d",
   "metadata": {},
   "source": [
    "It worked!"
   ]
  }
 ],
 "metadata": {
  "kernelspec": {
   "display_name": "Python 3 (ipykernel)",
   "language": "python",
   "name": "python3"
  },
  "language_info": {
   "codemirror_mode": {
    "name": "ipython",
    "version": 3
   },
   "file_extension": ".py",
   "mimetype": "text/x-python",
   "name": "python",
   "nbconvert_exporter": "python",
   "pygments_lexer": "ipython3",
   "version": "3.12.4"
  }
 },
 "nbformat": 4,
 "nbformat_minor": 5
}
